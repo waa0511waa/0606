{
  "nbformat": 4,
  "nbformat_minor": 0,
  "metadata": {
    "colab": {
      "provenance": [],
      "authorship_tag": "ABX9TyPLceR9BuIJ2xHLCmt7+5/N",
      "include_colab_link": true
    },
    "kernelspec": {
      "name": "python3",
      "display_name": "Python 3"
    },
    "language_info": {
      "name": "python"
    }
  },
  "cells": [
    {
      "cell_type": "markdown",
      "metadata": {
        "id": "view-in-github",
        "colab_type": "text"
      },
      "source": [
        "<a href=\"https://colab.research.google.com/github/waa0511waa/0606/blob/main/0502.ipynb\" target=\"_parent\"><img src=\"https://colab.research.google.com/assets/colab-badge.svg\" alt=\"Open In Colab\"/></a>"
      ]
    },
    {
      "cell_type": "code",
      "execution_count": null,
      "metadata": {
        "colab": {
          "base_uri": "https://localhost:8080/"
        },
        "id": "vuMwXVM8BxRt",
        "outputId": "da4aaed1-fa8e-482d-ff26-753e12520d1f"
      },
      "outputs": [
        {
          "output_type": "stream",
          "name": "stdout",
          "text": [
            "20\n",
            "TODAY IS A GOOD DAY!\n",
            "today is a good day!\n"
          ]
        }
      ],
      "source": [
        "sent=\"Today is a good day!\"\n",
        "\n",
        "sent_len=len(sent)\n",
        "print(sent_len)\n",
        "\n",
        "sent_upper=sent.upper()\n",
        "print(sent_upper)\n",
        "\n",
        "sent_lower=sent.lower()\n",
        "print(sent_lower)"
      ]
    },
    {
      "cell_type": "code",
      "source": [
        "string_1=\"singing\"\n",
        "string_2=\"watching movie\"\n",
        "string_3=\"sleeping\"\n",
        "\n",
        "print(f\"I usually {string_1} and {string_2} in my free time. \")"
      ],
      "metadata": {
        "colab": {
          "base_uri": "https://localhost:8080/"
        },
        "id": "Af_xKBAMFBI1",
        "outputId": "eb848f78-ca58-4edb-a5de-78695d40f084"
      },
      "execution_count": null,
      "outputs": [
        {
          "output_type": "stream",
          "name": "stdout",
          "text": [
            "I usually singing and watching movie in my free time. \n"
          ]
        }
      ]
    },
    {
      "cell_type": "code",
      "source": [
        "def wordDetect(s):\n",
        "  if s == s.lower():\n",
        "    print(\"lower\")\n",
        "  elif s == s.upper():\n",
        "    print(\"upper\")\n",
        "  else:\n",
        "    print(\"mixed\")\n",
        "\n",
        "sent = \"Everything will be fine.\"\n",
        "wordDetect(sent)"
      ],
      "metadata": {
        "colab": {
          "base_uri": "https://localhost:8080/"
        },
        "id": "2E-ona5-QVYD",
        "outputId": "839c3b83-b8a0-4089-f226-1ccff87fd58e"
      },
      "execution_count": null,
      "outputs": [
        {
          "output_type": "stream",
          "name": "stdout",
          "text": [
            "mixed\n"
          ]
        }
      ]
    }
  ]
}